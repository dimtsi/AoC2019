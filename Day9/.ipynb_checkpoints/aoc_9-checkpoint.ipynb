{
 "cells": [
  {
   "cell_type": "code",
   "execution_count": 11,
   "id": "6bb0a2c4",
   "metadata": {},
   "outputs": [],
   "source": [
    "f = open('sample.txt').read()  # change to input_test for testing"
   ]
  },
  {
   "cell_type": "code",
   "execution_count": 12,
   "id": "6114e0f0",
   "metadata": {},
   "outputs": [],
   "source": [
    "# remove index\n",
    "inp = [list(x) for x in f.split('\\n') if x != \"\"]"
   ]
  },
  {
   "cell_type": "code",
   "execution_count": 13,
   "id": "556aa950",
   "metadata": {},
   "outputs": [],
   "source": [
    "def get_value(i, j):\n",
    "    \"\"\"Get value at i, j. Returns dict for convenience with part 2.\"\"\"\n",
    "    if i < 0 or j < 0 or i > len(inp) - 1 or j > len(inp[0]) - 1:\n",
    "        return None\n",
    "    n = inp[i][j]\n",
    "    return {\"value\": int(n), \"i\": i, \"j\": j}\n",
    "    \n",
    "def get_surroundings(i, j):\n",
    "    \"\"\"Get all surrounding values for value at i, j\"\"\"\n",
    "    result = [get_value(i + 1, j), \n",
    "                get_value(i - 1, j), \n",
    "                get_value(i, j + 1), \n",
    "                get_value(i, j - 1)]\n",
    "    return [x for x in result if x is not None]\n",
    "\n",
    "def is_lowest(i, j):\n",
    "    \"\"\"Determine whether value at i, j is the lowest for all neighbours\"\"\"\n",
    "    val_surroundings = get_surroundings(i, j)\n",
    "    value = get_value(i, j)[\"value\"]\n",
    "    return all(int(x[\"value\"]) > int(value) for x in val_surroundings)\n",
    "    \n",
    "def get_inc_surroundings(i, j):\n",
    "    \"\"\"Get all surrounding values that are exactly 1 higher than the value at i, j\"\"\"\n",
    "    value = get_value(i, j)[\"value\"]\n",
    "    val_sur = get_surroundings(i, j)\n",
    "    return [x for x in val_sur if x[\"value\"] == (value + 1) and x[\"value\"] < 9]"
   ]
  },
  {
   "cell_type": "code",
   "execution_count": 14,
   "id": "f8275b9e",
   "metadata": {},
   "outputs": [
    {
     "name": "stdout",
     "output_type": "stream",
     "text": [
      "[['2', '1', '9', '9', '9', '4', '3', '2', '1', '0'], ['3', '9', '8', '7', '8', '9', '4', '9', '2', '1'], ['9', '8', '5', '6', '7', '8', '9', '8', '9', '2'], ['8', '7', '6', '7', '8', '9', '6', '7', '8', '9'], ['9', '8', '9', '9', '9', '6', '5', '6', '7', '8']]\n"
     ]
    }
   ],
   "source": [
    "print(inp)"
   ]
  },
  {
   "cell_type": "code",
   "execution_count": 4,
   "id": "8ba49fd4",
   "metadata": {},
   "outputs": [
    {
     "data": {
      "text/plain": [
       "False"
      ]
     },
     "execution_count": 4,
     "metadata": {},
     "output_type": "execute_result"
    }
   ],
   "source": [
    "# get_surroundings(0, 9)\n",
    "is_lowest(0, 1)"
   ]
  },
  {
   "cell_type": "code",
   "execution_count": 5,
   "id": "c1f03ca3",
   "metadata": {},
   "outputs": [
    {
     "data": {
      "text/plain": [
       "{'value': 8, 'i': 4, 'j': 0}"
      ]
     },
     "execution_count": 5,
     "metadata": {},
     "output_type": "execute_result"
    }
   ],
   "source": [
    "get_value(4, 0)"
   ]
  },
  {
   "cell_type": "code",
   "execution_count": 6,
   "id": "c67e5f62",
   "metadata": {},
   "outputs": [
    {
     "ename": "NameError",
     "evalue": "name 'get_basin' is not defined",
     "output_type": "error",
     "traceback": [
      "\u001b[0;31m---------------------------------------------------------------------------\u001b[0m",
      "\u001b[0;31mNameError\u001b[0m                                 Traceback (most recent call last)",
      "\u001b[0;32m/var/folders/hl/dz4gyrf933bdlx4y6f_x59740000gn/T/ipykernel_41075/2514818439.py\u001b[0m in \u001b[0;36m<module>\u001b[0;34m\u001b[0m\n\u001b[0;32m----> 1\u001b[0;31m \u001b[0mget_basin\u001b[0m\u001b[0;34m(\u001b[0m\u001b[0;36m0\u001b[0m\u001b[0;34m,\u001b[0m \u001b[0;36m9\u001b[0m\u001b[0;34m)\u001b[0m\u001b[0;34m\u001b[0m\u001b[0;34m\u001b[0m\u001b[0m\n\u001b[0m",
      "\u001b[0;31mNameError\u001b[0m: name 'get_basin' is not defined"
     ]
    }
   ],
   "source": [
    "get_basin(0, 9)"
   ]
  },
  {
   "cell_type": "code",
   "execution_count": null,
   "id": "517421ef",
   "metadata": {},
   "outputs": [],
   "source": [
    "def get_basin(i, j):\n",
    "    \"\"\"At this point we know the lowest points already.\"\"\"\n",
    "    basin = [get_value(i, j)]\n",
    "\n",
    "    surroundings = get_inc_surroundings(i, j)\n",
    "    basin.extend(surroundings)\n",
    "    \n",
    "    while len(surroundings) > 0:\n",
    "        \n",
    "        new_surroundings = []\n",
    "        for x in surroundings:\n",
    "            new_surroundings.extend(get_inc_surroundings(x[\"i\"], x[\"j\"]))\n",
    "        \n",
    "        basin.extend(new_surroundings)\n",
    "        \n",
    "        surroundings = new_surroundings\n",
    "    \n",
    "    # filter duplicates\n",
    "    unique_basin = []\n",
    "    for i in basin:\n",
    "        if i not in unique_basin:\n",
    "            unique_basin.append(i)\n",
    "    \n",
    "    return unique_basin\n",
    "\n",
    "    "
   ]
  },
  {
   "cell_type": "code",
   "execution_count": null,
   "id": "2217a6f7",
   "metadata": {},
   "outputs": [],
   "source": [
    "get_basin(0, 9)"
   ]
  },
  {
   "cell_type": "code",
   "execution_count": 7,
   "id": "4f1923f8",
   "metadata": {},
   "outputs": [],
   "source": [
    "lowest_counter = 0 \n",
    "basins = []\n",
    "for i in range(len(inp[0])):\n",
    "    for j in range(len(inp[1])):\n",
    "        \n",
    "        \n",
    "        if is_lowest(i, j):\n",
    "            lowest_counter += 1\n",
    "            \n",
    "#             basins.append(get_basin(i, j))\n",
    "            \n",
    "#             lowest_counter += 1\n",
    "#             risk_levels.append(int(value))\n",
    "        "
   ]
  },
  {
   "cell_type": "code",
   "execution_count": 9,
   "id": "df25185a",
   "metadata": {},
   "outputs": [
    {
     "data": {
      "text/plain": [
       "217"
      ]
     },
     "execution_count": 9,
     "metadata": {},
     "output_type": "execute_result"
    }
   ],
   "source": [
    "lowest_counter"
   ]
  },
  {
   "cell_type": "code",
   "execution_count": null,
   "id": "547e431d",
   "metadata": {},
   "outputs": [],
   "source": []
  },
  {
   "cell_type": "code",
   "execution_count": null,
   "id": "4e28e00a",
   "metadata": {},
   "outputs": [],
   "source": [
    "basins"
   ]
  },
  {
   "cell_type": "code",
   "execution_count": null,
   "id": "fccf7d66",
   "metadata": {},
   "outputs": [],
   "source": [
    "len(basins)"
   ]
  },
  {
   "cell_type": "code",
   "execution_count": null,
   "id": "4aa4f438",
   "metadata": {},
   "outputs": [],
   "source": [
    "basin_len = sorted([len(x) for x in basins])"
   ]
  },
  {
   "cell_type": "code",
   "execution_count": null,
   "id": "20cec4a6",
   "metadata": {},
   "outputs": [],
   "source": [
    "basin_len"
   ]
  },
  {
   "cell_type": "code",
   "execution_count": null,
   "id": "3c491281",
   "metadata": {},
   "outputs": [],
   "source": [
    "basin_len[-1] * basin_len[-2] * basin_len[-3]"
   ]
  },
  {
   "cell_type": "code",
   "execution_count": null,
   "id": "d39e6257",
   "metadata": {},
   "outputs": [],
   "source": []
  }
 ],
 "metadata": {
  "kernelspec": {
   "display_name": "Python 3 (ipykernel)",
   "language": "python",
   "name": "python3"
  },
  "language_info": {
   "codemirror_mode": {
    "name": "ipython",
    "version": 3
   },
   "file_extension": ".py",
   "mimetype": "text/x-python",
   "name": "python",
   "nbconvert_exporter": "python",
   "pygments_lexer": "ipython3",
   "version": "3.8.3"
  }
 },
 "nbformat": 4,
 "nbformat_minor": 5
}
